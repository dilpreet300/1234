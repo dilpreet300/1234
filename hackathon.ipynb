{
  "nbformat": 4,
  "nbformat_minor": 0,
  "metadata": {
    "colab": {
      "name": "hackathon.ipynb",
      "provenance": [],
      "collapsed_sections": [],
      "toc_visible": true
    },
    "kernelspec": {
      "name": "python3",
      "display_name": "Python 3"
    },
    "accelerator": "GPU"
  },
  "cells": [
    {
      "cell_type": "code",
      "metadata": {
        "id": "tBi4syAP93Kl",
        "colab_type": "code",
        "colab": {}
      },
      "source": [
        "path='drive/My Drive/hackathon/'\n",
        "\n",
        "import numpy as np\n",
        "import pandas as pd\n",
        "import matplotlib.pyplot as plt\n",
        "import xgboost as xgb\n",
        "\n",
        "from sklearn.model_selection import learning_curve\n",
        "from sklearn.model_selection import ShuffleSplit\n",
        "from sklearn.preprocessing import StandardScaler\n",
        "from sklearn.preprocessing import OneHotEncoder\n",
        "from sklearn.impute import SimpleImputer\n",
        "from sklearn.compose import ColumnTransformer\n",
        "\n",
        "data_train=pd.read_excel(path+'Train_dataset.xlsx',header=0,names=np.arange(28))\n",
        "data_train=data_train.drop(labels=[0,1,3,4],axis='columns')\n",
        "data_train.columns=np.arange(24)\n",
        "\n",
        "cols=data_train.columns\n",
        "cols_num=data_train._get_numeric_data().columns\n",
        "cols_cat=list(set(cols)-set(cols_num))\n",
        "cols_num=list(set(cols)-set(cols_cat))\n",
        "cols_num=cols_num[:-1]\n",
        "cols=list(cols)\n",
        "\n",
        "X_train=data_train.iloc[:,:-1].values\n",
        "y_train=data_train.iloc[:,-1].values.reshape(-1,1)\n",
        "\n",
        "# from sklearn.compose import ColumnTransformer\n",
        "# import category_encoders as ce\n",
        "# be=ce.BinaryEncoder()\n",
        "\n",
        "\n",
        "imputer_cat=SimpleImputer(strategy=\"most_frequent\")\n",
        "X_train[:,cols_cat]=imputer_cat.fit_transform(X_train[:,cols_cat])\n",
        "\n",
        "imputer_num=SimpleImputer(strategy=\"mean\")\n",
        "\n",
        "X_train[:,cols_num]=imputer_num.fit_transform(X_train[:,cols_num])\n",
        "\n",
        "ct=ColumnTransformer([('encoder',OneHotEncoder(),cols_cat)],remainder='passthrough')\n",
        "X_train=ct.fit_transform(X_train)\n",
        "\n",
        "X_train=X_train.astype(float)\n",
        "sc=StandardScaler();\n",
        "X_train=sc.fit_transform(X_train)"
      ],
      "execution_count": 0,
      "outputs": []
    },
    {
      "cell_type": "code",
      "metadata": {
        "id": "nEGpKjmIaWtv",
        "colab_type": "code",
        "outputId": "7d76b8c9-98e4-46d1-e498-a2b7778cc12e",
        "colab": {
          "base_uri": "https://localhost:8080/",
          "height": 185
        }
      },
      "source": [
        "model1=xgb.XGBRegressor()\n",
        "# print(np.mean(cross_val_score(model1,X_train,y_train,scoring=make_scorer(mean_squared_error,greater_is_better=False))))\n",
        "model1.fit(X_train,y_train)"
      ],
      "execution_count": 0,
      "outputs": [
        {
          "output_type": "stream",
          "text": [
            "[11:20:39] WARNING: /workspace/src/objective/regression_obj.cu:152: reg:linear is now deprecated in favor of reg:squarederror.\n"
          ],
          "name": "stdout"
        },
        {
          "output_type": "execute_result",
          "data": {
            "text/plain": [
              "XGBRegressor(base_score=0.5, booster='gbtree', colsample_bylevel=1,\n",
              "             colsample_bynode=1, colsample_bytree=1, gamma=0,\n",
              "             importance_type='gain', learning_rate=0.1, max_delta_step=0,\n",
              "             max_depth=3, min_child_weight=1, missing=None, n_estimators=100,\n",
              "             n_jobs=1, nthread=None, objective='reg:linear', random_state=0,\n",
              "             reg_alpha=0, reg_lambda=1, scale_pos_weight=1, seed=None,\n",
              "             silent=None, subsample=1, verbosity=1)"
            ]
          },
          "metadata": {
            "tags": []
          },
          "execution_count": 169
        }
      ]
    },
    {
      "cell_type": "code",
      "metadata": {
        "id": "GHVmVfvATbSP",
        "colab_type": "code",
        "outputId": "4158167b-ca51-49e2-fb15-be9e4344bdea",
        "colab": {
          "base_uri": "https://localhost:8080/",
          "height": 203
        }
      },
      "source": [
        "from sklearn.ensemble import RandomForestRegressor\n",
        "model2=RandomForestRegressor()\n",
        "# print(np.mean(cross_val_score(model2,X_train,y_train,scoring=make_scorer(mean_squared_error,greater_is_better=False))))\n",
        "model2.fit(X_train,y_train)"
      ],
      "execution_count": 0,
      "outputs": [
        {
          "output_type": "stream",
          "text": [
            "/usr/local/lib/python3.6/dist-packages/ipykernel_launcher.py:4: DataConversionWarning: A column-vector y was passed when a 1d array was expected. Please change the shape of y to (n_samples,), for example using ravel().\n",
            "  after removing the cwd from sys.path.\n"
          ],
          "name": "stderr"
        },
        {
          "output_type": "execute_result",
          "data": {
            "text/plain": [
              "RandomForestRegressor(bootstrap=True, ccp_alpha=0.0, criterion='mse',\n",
              "                      max_depth=None, max_features='auto', max_leaf_nodes=None,\n",
              "                      max_samples=None, min_impurity_decrease=0.0,\n",
              "                      min_impurity_split=None, min_samples_leaf=1,\n",
              "                      min_samples_split=2, min_weight_fraction_leaf=0.0,\n",
              "                      n_estimators=100, n_jobs=None, oob_score=False,\n",
              "                      random_state=None, verbose=0, warm_start=False)"
            ]
          },
          "metadata": {
            "tags": []
          },
          "execution_count": 170
        }
      ]
    },
    {
      "cell_type": "code",
      "metadata": {
        "id": "i4j1q_btUoZE",
        "colab_type": "code",
        "outputId": "f4a4e345-7622-4f08-db6a-1474caf92d94",
        "colab": {
          "base_uri": "https://localhost:8080/",
          "height": 240
        }
      },
      "source": [
        "from sklearn.ensemble import GradientBoostingRegressor\n",
        "model3=GradientBoostingRegressor()\n",
        "# print(np.mean(cross_val_score(model3,X_train,y_train,scoring=make_scorer(mean_squared_error,greater_is_better=False))))\n",
        "model3.fit(X_train,y_train)"
      ],
      "execution_count": 0,
      "outputs": [
        {
          "output_type": "stream",
          "text": [
            "/usr/local/lib/python3.6/dist-packages/sklearn/ensemble/_gb.py:1454: DataConversionWarning: A column-vector y was passed when a 1d array was expected. Please change the shape of y to (n_samples, ), for example using ravel().\n",
            "  y = column_or_1d(y, warn=True)\n"
          ],
          "name": "stderr"
        },
        {
          "output_type": "execute_result",
          "data": {
            "text/plain": [
              "GradientBoostingRegressor(alpha=0.9, ccp_alpha=0.0, criterion='friedman_mse',\n",
              "                          init=None, learning_rate=0.1, loss='ls', max_depth=3,\n",
              "                          max_features=None, max_leaf_nodes=None,\n",
              "                          min_impurity_decrease=0.0, min_impurity_split=None,\n",
              "                          min_samples_leaf=1, min_samples_split=2,\n",
              "                          min_weight_fraction_leaf=0.0, n_estimators=100,\n",
              "                          n_iter_no_change=None, presort='deprecated',\n",
              "                          random_state=None, subsample=1.0, tol=0.0001,\n",
              "                          validation_fraction=0.1, verbose=0, warm_start=False)"
            ]
          },
          "metadata": {
            "tags": []
          },
          "execution_count": 171
        }
      ]
    },
    {
      "cell_type": "code",
      "metadata": {
        "id": "LLrRdogBZD-K",
        "colab_type": "code",
        "colab": {}
      },
      "source": [
        "def mainModel(X):\n",
        "  return ((model1.predict(X).reshape(-1,1)+model2.predict(X).reshape(-1,1)+model3.predict(X).reshape(-1,1)))/3"
      ],
      "execution_count": 0,
      "outputs": []
    },
    {
      "cell_type": "code",
      "metadata": {
        "id": "Ac4CjJWha8aI",
        "colab_type": "code",
        "outputId": "fe96b97a-dc2f-4070-b5ef-c86a52c613b3",
        "colab": {
          "base_uri": "https://localhost:8080/",
          "height": 35
        }
      },
      "source": [
        "print(np.sqrt(mean_squared_error(y_train,mainModel(X_train))))"
      ],
      "execution_count": 0,
      "outputs": [
        {
          "output_type": "stream",
          "text": [
            "6.476511307598482\n"
          ],
          "name": "stdout"
        }
      ]
    },
    {
      "cell_type": "code",
      "metadata": {
        "id": "IYjOO9v9hE_z",
        "colab_type": "code",
        "colab": {}
      },
      "source": [
        "data_test=pd.read_excel(path+'Test_dataset.xlsx',header=0,names=np.arange(27))\n",
        "data_test=data_test.drop(labels=[0,1,3,4],axis='columns')\n",
        "data_test.columns=np.arange(23)\n",
        "X_test=data_test.iloc[:,:].values\n",
        "X_test[:,cols_cat]=imputer_cat.transform(X_test[:,cols_cat])\n",
        "X_test[:,cols_num]=imputer_num.transform(X_test[:,cols_num])\n",
        "X_test=ct.transform(X_test)\n",
        "X_test=sc.transform(X_test)"
      ],
      "execution_count": 0,
      "outputs": []
    },
    {
      "cell_type": "code",
      "metadata": {
        "id": "JCIXPIZziI2s",
        "colab_type": "code",
        "colab": {}
      },
      "source": [
        "y_pred=mainModel(X_test)\n",
        "np.savetxt('ans.csv',y_pred,fmt='%f')"
      ],
      "execution_count": 0,
      "outputs": []
    },
    {
      "cell_type": "code",
      "metadata": {
        "id": "2jfCF2L3SN15",
        "colab_type": "code",
        "outputId": "8fb45d9b-c955-445a-88e1-43094e3a4657",
        "colab": {
          "base_uri": "https://localhost:8080/",
          "height": 277
        }
      },
      "source": [
        "## Time series Analysis\n",
        "from sklearn.preprocessing import MinMaxScaler\n",
        "import keras\n",
        "from keras.models import Sequential\n",
        "from keras.layers import LSTM,Dropout,Dense\n",
        "\n",
        "data_train=pd.read_excel(path+'Train_dataset.xlsx',sheet_name=1)\n",
        "\n",
        "sc=MinMaxScaler()\n",
        "\n",
        "X_train=data_train.iloc[:,1:6].values\n",
        "y_train=data_train.iloc[:,6].values.reshape(-1,1)\n",
        "\n",
        "#X_train=sc.fit_transform(X_train)\n",
        "\n",
        "X_test=data_train.iloc[:,2:7].values\n",
        "y_test=data_train.iloc[:,7].values.reshape(-1,1)\n",
        "\n",
        "#X_test=sc.transform(X_test)\n",
        "\n",
        "X_train = np.reshape(X_train, (X_train.shape[0], X_train.shape[1], 1))\n",
        "X_test=  np.reshape(X_test, (X_test.shape[0], X_test.shape[1], 1))\n",
        "\n",
        "model=Sequential()\n",
        "model.add(LSTM(units=100,return_sequences = True, input_shape = (X_train.shape[1], 1)))\n",
        "model.add(Dropout(0.2))\n",
        "model.add(LSTM(units=50,return_sequences=True))\n",
        "model.add(Dropout(0.2))\n",
        "model.add(LSTM(units=50,return_sequences=True))\n",
        "model.add(Dropout(0.2))\n",
        "model.add(LSTM(units=50))\n",
        "model.add(Dropout(0.2))\n",
        "model.add(Dense(units=1))\n",
        "\n",
        "model.compile(optimizer='adam',loss='mean_squared_error')"
      ],
      "execution_count": 0,
      "outputs": [
        {
          "output_type": "stream",
          "text": [
            "WARNING:tensorflow:From /usr/local/lib/python3.6/dist-packages/keras/backend/tensorflow_backend.py:66: The name tf.get_default_graph is deprecated. Please use tf.compat.v1.get_default_graph instead.\n",
            "\n",
            "WARNING:tensorflow:From /usr/local/lib/python3.6/dist-packages/keras/backend/tensorflow_backend.py:541: The name tf.placeholder is deprecated. Please use tf.compat.v1.placeholder instead.\n",
            "\n",
            "WARNING:tensorflow:From /usr/local/lib/python3.6/dist-packages/keras/backend/tensorflow_backend.py:4432: The name tf.random_uniform is deprecated. Please use tf.random.uniform instead.\n",
            "\n",
            "WARNING:tensorflow:From /usr/local/lib/python3.6/dist-packages/keras/backend/tensorflow_backend.py:148: The name tf.placeholder_with_default is deprecated. Please use tf.compat.v1.placeholder_with_default instead.\n",
            "\n",
            "WARNING:tensorflow:From /usr/local/lib/python3.6/dist-packages/keras/backend/tensorflow_backend.py:3733: calling dropout (from tensorflow.python.ops.nn_ops) with keep_prob is deprecated and will be removed in a future version.\n",
            "Instructions for updating:\n",
            "Please use `rate` instead of `keep_prob`. Rate should be set to `rate = 1 - keep_prob`.\n",
            "WARNING:tensorflow:From /usr/local/lib/python3.6/dist-packages/keras/optimizers.py:793: The name tf.train.Optimizer is deprecated. Please use tf.compat.v1.train.Optimizer instead.\n",
            "\n"
          ],
          "name": "stdout"
        }
      ]
    },
    {
      "cell_type": "code",
      "metadata": {
        "id": "AMtXDNHiShct",
        "colab_type": "code",
        "outputId": "54d05631-dac7-4f7f-d4d8-2fa4df1ebaae",
        "colab": {
          "base_uri": "https://localhost:8080/",
          "height": 1000
        }
      },
      "source": [
        "model.fit(X_train,y_train,batch_size=10,epochs=100)\n",
        "y_pred=model.predict(X_test)"
      ],
      "execution_count": 0,
      "outputs": [
        {
          "output_type": "stream",
          "text": [
            "WARNING:tensorflow:From /tensorflow-1.15.0/python3.6/tensorflow_core/python/ops/math_grad.py:1424: where (from tensorflow.python.ops.array_ops) is deprecated and will be removed in a future version.\n",
            "Instructions for updating:\n",
            "Use tf.where in 2.0, which has the same broadcast rule as np.where\n",
            "WARNING:tensorflow:From /usr/local/lib/python3.6/dist-packages/keras/backend/tensorflow_backend.py:1033: The name tf.assign_add is deprecated. Please use tf.compat.v1.assign_add instead.\n",
            "\n",
            "WARNING:tensorflow:From /usr/local/lib/python3.6/dist-packages/keras/backend/tensorflow_backend.py:1020: The name tf.assign is deprecated. Please use tf.compat.v1.assign instead.\n",
            "\n",
            "WARNING:tensorflow:From /usr/local/lib/python3.6/dist-packages/keras/backend/tensorflow_backend.py:3005: The name tf.Session is deprecated. Please use tf.compat.v1.Session instead.\n",
            "\n",
            "Epoch 1/100\n",
            "WARNING:tensorflow:From /usr/local/lib/python3.6/dist-packages/keras/backend/tensorflow_backend.py:190: The name tf.get_default_session is deprecated. Please use tf.compat.v1.get_default_session instead.\n",
            "\n",
            "WARNING:tensorflow:From /usr/local/lib/python3.6/dist-packages/keras/backend/tensorflow_backend.py:197: The name tf.ConfigProto is deprecated. Please use tf.compat.v1.ConfigProto instead.\n",
            "\n",
            "WARNING:tensorflow:From /usr/local/lib/python3.6/dist-packages/keras/backend/tensorflow_backend.py:207: The name tf.global_variables is deprecated. Please use tf.compat.v1.global_variables instead.\n",
            "\n",
            "WARNING:tensorflow:From /usr/local/lib/python3.6/dist-packages/keras/backend/tensorflow_backend.py:216: The name tf.is_variable_initialized is deprecated. Please use tf.compat.v1.is_variable_initialized instead.\n",
            "\n",
            "WARNING:tensorflow:From /usr/local/lib/python3.6/dist-packages/keras/backend/tensorflow_backend.py:223: The name tf.variables_initializer is deprecated. Please use tf.compat.v1.variables_initializer instead.\n",
            "\n",
            "10714/10714 [==============================] - 53s 5ms/step - loss: 650108.0778\n",
            "Epoch 2/100\n",
            "10714/10714 [==============================] - 44s 4ms/step - loss: 571391.7481\n",
            "Epoch 3/100\n",
            "10714/10714 [==============================] - 41s 4ms/step - loss: 500813.3215\n",
            "Epoch 4/100\n",
            "10714/10714 [==============================] - 41s 4ms/step - loss: 436923.2638\n",
            "Epoch 5/100\n",
            "10714/10714 [==============================] - 42s 4ms/step - loss: 377810.8073\n",
            "Epoch 6/100\n",
            "10714/10714 [==============================] - 41s 4ms/step - loss: 325190.8841\n",
            "Epoch 7/100\n",
            "10714/10714 [==============================] - 42s 4ms/step - loss: 277453.5918\n",
            "Epoch 8/100\n",
            "10714/10714 [==============================] - 41s 4ms/step - loss: 235404.7066\n",
            "Epoch 9/100\n",
            "10714/10714 [==============================] - 41s 4ms/step - loss: 198123.2578\n",
            "Epoch 10/100\n",
            "10714/10714 [==============================] - 41s 4ms/step - loss: 166156.8992\n",
            "Epoch 11/100\n",
            "10714/10714 [==============================] - 40s 4ms/step - loss: 139178.4148\n",
            "Epoch 12/100\n",
            "10714/10714 [==============================] - 40s 4ms/step - loss: 116216.5987\n",
            "Epoch 13/100\n",
            "10714/10714 [==============================] - 40s 4ms/step - loss: 97926.8542\n",
            "Epoch 14/100\n",
            "10714/10714 [==============================] - 40s 4ms/step - loss: 85463.6600\n",
            "Epoch 15/100\n",
            "10714/10714 [==============================] - 40s 4ms/step - loss: 75265.0378\n",
            "Epoch 16/100\n",
            "10714/10714 [==============================] - 40s 4ms/step - loss: 68857.4073\n",
            "Epoch 17/100\n",
            "10714/10714 [==============================] - 40s 4ms/step - loss: 65086.7653\n",
            "Epoch 18/100\n",
            "10714/10714 [==============================] - 40s 4ms/step - loss: 63521.2802\n",
            "Epoch 19/100\n",
            "10714/10714 [==============================] - 40s 4ms/step - loss: 63402.7485\n",
            "Epoch 20/100\n",
            "10714/10714 [==============================] - 40s 4ms/step - loss: 62524.7170\n",
            "Epoch 21/100\n",
            "10714/10714 [==============================] - 40s 4ms/step - loss: 62709.5228\n",
            "Epoch 22/100\n",
            "10714/10714 [==============================] - 41s 4ms/step - loss: 62493.6727\n",
            "Epoch 23/100\n",
            "10714/10714 [==============================] - 40s 4ms/step - loss: 62341.3556\n",
            "Epoch 24/100\n",
            "10714/10714 [==============================] - 40s 4ms/step - loss: 62823.4860\n",
            "Epoch 25/100\n",
            "10714/10714 [==============================] - 40s 4ms/step - loss: 62223.4484\n",
            "Epoch 26/100\n",
            "10714/10714 [==============================] - 39s 4ms/step - loss: 62606.2284\n",
            "Epoch 27/100\n",
            "10714/10714 [==============================] - 39s 4ms/step - loss: 62619.6570\n",
            "Epoch 28/100\n",
            "10714/10714 [==============================] - 39s 4ms/step - loss: 62675.3810\n",
            "Epoch 29/100\n",
            "10714/10714 [==============================] - 40s 4ms/step - loss: 62119.7413\n",
            "Epoch 30/100\n",
            " 3770/10714 [=========>....................] - ETA: 25s - loss: 62984.7940"
          ],
          "name": "stdout"
        }
      ]
    },
    {
      "cell_type": "code",
      "metadata": {
        "id": "ZG_LkGliv2it",
        "colab_type": "code",
        "colab": {
          "base_uri": "https://localhost:8080/",
          "height": 74
        },
        "outputId": "ab2fb980-e5cc-48d0-ad87-7ab6bd5238e8"
      },
      "source": [
        "data_test2=pd.read_excel(path+'Train_dataset.xlsx',header=0,names=np.arange(28))\n",
        "data_test2=data_test2.drop(labels=[0,1,3,4],axis='columns')\n",
        "data_test2.columns=np.arange(24)\n",
        "X_test2=data_test2.iloc[:,:].values\n",
        "X_test2[:,cols_cat]=imputer_cat.transform(X_test2[:,cols_cat])\n",
        "X_test2[:,cols_num]=imputer_num.transform(X_test2[:,cols_num])\n",
        "X_test2=ct.transform(X_test2)\n",
        "X_test2=sc.transform(X_test2)"
      ],
      "execution_count": 29,
      "outputs": [
        {
          "output_type": "stream",
          "text": [
            "/usr/local/lib/python3.6/dist-packages/sklearn/compose/_column_transformer.py:430: FutureWarning: Given feature/column names or counts do not match the ones for the data given during fit. This will fail from v0.24.\n",
            "  FutureWarning)\n"
          ],
          "name": "stderr"
        }
      ]
    },
    {
      "cell_type": "code",
      "metadata": {
        "id": "I93lT2LDv66j",
        "colab_type": "code",
        "colab": {}
      },
      "source": [
        "y_pred2=mainModel(X_test2)\n",
        "np.savetxt('ans2.csv',y_pred2,fmt='%f')"
      ],
      "execution_count": 0,
      "outputs": []
    },
    {
      "cell_type": "markdown",
      "metadata": {
        "id": "o_7-bScEDb4C",
        "colab_type": "text"
      },
      "source": [
        "Hyper-parameter Tuning and data visualization"
      ]
    },
    {
      "cell_type": "code",
      "metadata": {
        "id": "7UBJSvjSv2Uq",
        "colab_type": "code",
        "colab": {}
      },
      "source": [
        "from sklearn.model_selection import GridSearchCV\n",
        "from sklearn.metrics import make_scorer\n",
        "param_grid={'max_depth':[4,5,8,9],'min_child_weight':list(np.random.uniform(0,4,4)),'lambda':list(np.random.uniform(0,10,4)),'alpha':list(np.random.uniform(0,10,4))}\n",
        "grid_search=GridSearchCV(xgb.XGBRegressor(),param_grid,scoring=make_scorer(mean_squared_error,greater_is_better=False))\n",
        "grid_search.fit(X_train,y_train)                                                                                                          "
      ],
      "execution_count": 0,
      "outputs": []
    },
    {
      "cell_type": "code",
      "metadata": {
        "id": "vCKyxemd16rJ",
        "colab_type": "code",
        "colab": {}
      },
      "source": [
        "print(grid_search.best_estimator_)\n",
        "print(grid_search.best_score_)\n",
        "print(grid_search.best_params_)\n",
        "print(grid_search.scorer_)"
      ],
      "execution_count": 0,
      "outputs": []
    },
    {
      "cell_type": "code",
      "metadata": {
        "id": "Vm0fFmNDRY4w",
        "colab_type": "code",
        "colab": {}
      },
      "source": [
        "from sklearn.model_selection import cross_val_score\n",
        "print(np.mean(cross_val_score(grid_search.best_estimator_,X_train,y_train,scoring=make_scorer(mean_squared_error,greater_is_better=False))))\n",
        "print(np.mean(cross_val_score(xgb.XGBRegressor(),X_train,y_train,scoring=make_scorer(mean_squared_error,greater_is_better=False))))\n"
      ],
      "execution_count": 0,
      "outputs": []
    },
    {
      "cell_type": "code",
      "metadata": {
        "id": "XnuGjgN0x5u7",
        "colab_type": "code",
        "outputId": "58662ae0-9336-4749-ba94-1de017dee63a",
        "colab": {
          "base_uri": "https://localhost:8080/",
          "height": 35
        }
      },
      "source": [
        "print(np.sum(y_pred2>=60))"
      ],
      "execution_count": 33,
      "outputs": [
        {
          "output_type": "stream",
          "text": [
            "1284\n"
          ],
          "name": "stdout"
        }
      ]
    },
    {
      "cell_type": "code",
      "metadata": {
        "id": "304Y_1NDzCHp",
        "colab_type": "code",
        "outputId": "cf964ab4-f444-4b7f-987b-7690c14f0a64",
        "colab": {
          "base_uri": "https://localhost:8080/",
          "height": 284
        }
      },
      "source": [
        "import seaborn as sns\n",
        "sns.distplot(y_pred2)"
      ],
      "execution_count": 31,
      "outputs": [
        {
          "output_type": "execute_result",
          "data": {
            "text/plain": [
              "<matplotlib.axes._subplots.AxesSubplot at 0x7f0c3c964400>"
            ]
          },
          "metadata": {
            "tags": []
          },
          "execution_count": 31
        },
        {
          "output_type": "display_data",
          "data": {
            "image/png": "[encoded data removed]",
            "text/plain": [
              "<Figure size 432x288 with 1 Axes>"
            ]
          },
          "metadata": {
            "tags": []
          }
        }
      ]
    },
    {
      "cell_type": "code",
      "metadata": {
        "id": "KXsLlTt62MXj",
        "colab_type": "code",
        "outputId": "c56c8e94-fa58-4bc0-837c-6d2235907a5f",
        "colab": {
          "base_uri": "https://localhost:8080/",
          "height": 283
        }
      },
      "source": [
        "sns.distplot(y_pred)"
      ],
      "execution_count": 0,
      "outputs": [
        {
          "output_type": "execute_result",
          "data": {
            "text/plain": [
              "<matplotlib.axes._subplots.AxesSubplot at 0x7fdb0334f3c8>"
            ]
          },
          "metadata": {
            "tags": []
          },
          "execution_count": 164
        },
        {
          "output_type": "display_data",
          "data": {
            "image/png": "[encoded data removed]",
            "text/plain": [
              "<Figure size 432x288 with 1 Axes>"
            ]
          },
          "metadata": {
            "tags": []
          }
        }
      ]
    },
    {
      "cell_type": "code",
      "metadata": {
        "id": "JvxZyLN02j6-",
        "colab_type": "code",
        "outputId": "56165f2b-1fa6-4a76-a056-8d22cb6cca60",
        "colab": {
          "base_uri": "https://localhost:8080/",
          "height": 283
        }
      },
      "source": [
        "sns.distplot(y_pred1)"
      ],
      "execution_count": 0,
      "outputs": [
        {
          "output_type": "execute_result",
          "data": {
            "text/plain": [
              "<matplotlib.axes._subplots.AxesSubplot at 0x7fdb30dccb38>"
            ]
          },
          "metadata": {
            "tags": []
          },
          "execution_count": 165
        },
        {
          "output_type": "display_data",
          "data": {
            "image/png": "[encoded data removed]",
            "text/plain": [
              "<Figure size 432x288 with 1 Axes>"
            ]
          },
          "metadata": {
            "tags": []
          }
        }
      ]
    },
    {
      "cell_type": "code",
      "metadata": {
        "id": "rtJ0YCY-2sGr",
        "colab_type": "code",
        "outputId": "a89be2e5-fcdd-4ce8-c209-f9fc8cad5dd3",
        "colab": {
          "base_uri": "https://localhost:8080/",
          "height": 283
        }
      },
      "source": [
        "sns.distplot(y_pred2)"
      ],
      "execution_count": 0,
      "outputs": [
        {
          "output_type": "execute_result",
          "data": {
            "text/plain": [
              "<matplotlib.axes._subplots.AxesSubplot at 0x7fdb4fe3d1d0>"
            ]
          },
          "metadata": {
            "tags": []
          },
          "execution_count": 166
        },
        {
          "output_type": "display_data",
          "data": {
            "image/png": "[encoded data removed]",
            "text/plain": [
              "<Figure size 432x288 with 1 Axes>"
            ]
          },
          "metadata": {
            "tags": []
          }
        }
      ]
    },
    {
      "cell_type": "code",
      "metadata": {
        "id": "QzPm3YPx231A",
        "colab_type": "code",
        "outputId": "d3746910-2714-4d3c-869d-c0daf2b398c3",
        "colab": {
          "base_uri": "https://localhost:8080/",
          "height": 283
        }
      },
      "source": [
        "sns.distplot(y_pred3)"
      ],
      "execution_count": 0,
      "outputs": [
        {
          "output_type": "execute_result",
          "data": {
            "text/plain": [
              "<matplotlib.axes._subplots.AxesSubplot at 0x7fdb4fe6ccc0>"
            ]
          },
          "metadata": {
            "tags": []
          },
          "execution_count": 167
        },
        {
          "output_type": "display_data",
          "data": {
            "image/png": "[encoded data removed]",
            "text/plain": [
              "<Figure size 432x288 with 1 Axes>"
            ]
          },
          "metadata": {
            "tags": []
          }
        }
      ]
    },
    {
      "cell_type": "markdown",
      "metadata": {
        "id": "oalJlVFISOb4",
        "colab_type": "text"
      },
      "source": [
        "part 2"
      ]
    },
    {
      "cell_type": "code",
      "metadata": {
        "id": "-KJ7hhGPTB17",
        "colab_type": "code",
        "colab": {}
      },
      "source": [
        "from google.colab import drive\n",
        "drive.mount('/content/drive')"
      ],
      "execution_count": 0,
      "outputs": []
    }
  ]
}